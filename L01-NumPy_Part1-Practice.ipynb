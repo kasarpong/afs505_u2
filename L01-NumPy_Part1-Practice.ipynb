{
 "cells": [
  {
   "cell_type": "markdown",
   "metadata": {},
   "source": [
    "# Lesson 1 Practice: NumPy Part 1\n",
    "Use this notebook to follow along with the lesson in the corresponding lesson notebook: [L01-Numpy_Part1-Lesson.ipynb](./L01-Numpy_Part1-Lesson.ipynb).  \n",
    "\n"
   ]
  },
  {
   "cell_type": "markdown",
   "metadata": {},
   "source": [
    "## Instructions\n",
    "Follow along with the teaching material in the lesson. Throughout the tutorial sections labeled as \"Tasks\" are interspersed and indicated with the icon: ![Task](http://icons.iconarchive.com/icons/sbstnblnd/plateau/16/Apps-gnome-info-icon.png). You should follow the instructions provided in these sections by performing them in the practice notebook.  When the tutorial is completed you can turn in the final practice notebook. For each task, use the cell below it to write and test your code.  You may add additional cells for any task as needed or desired.  "
   ]
  },
  {
   "cell_type": "markdown",
   "metadata": {},
   "source": [
    "## Task 1a: Setup\n",
    "\n",
    "In the practice notebook, import the following packages:\n",
    "+ `numpy` as `np`"
   ]
  },
  {
   "cell_type": "code",
   "execution_count": 2,
   "metadata": {},
   "outputs": [],
   "source": [
    "# Importing the NumPy package\n",
    "import numpy as np "
   ]
  },
  {
   "cell_type": "markdown",
   "metadata": {},
   "source": [
    "## Task 2a: Creating Arrays\n",
    "\n",
    "In the practice notebook, perform the following.  \n",
    "- Create a 1-dimensional numpy array and print it.\n",
    "- Create a 2-dimensional numpy array and print it.\n",
    "- Create a 3-dimensional numpy array and print it."
   ]
  },
  {
   "cell_type": "code",
   "execution_count": 3,
   "metadata": {},
   "outputs": [
    {
     "name": "stdout",
     "output_type": "stream",
     "text": [
      "['a' 'b' 'c' 'd']\n",
      "[[ 1  3  5]\n",
      " [34 42 19]]\n",
      "[[[ 1  3  5  7]\n",
      "  [ 2  4  6  8]]\n",
      "\n",
      " [[ 2  4  3  9]\n",
      "  [10  9  8  7]]]\n"
     ]
    }
   ],
   "source": [
    "# creating 1-dimensional numpy array\n",
    "one_dim = np.array(['a', 'b', 'c', 'd'])\n",
    "print(one_dim)\n",
    "\n",
    "# creating 2-dimensional numpy array\n",
    "two_dim = np.array([[1, 3, 5],[34, 42, 19]])\n",
    "print(two_dim)\n",
    "\n",
    "# creating 3-dimensional numpy array\n",
    "three_dim = np.array([[[1, 3, 5, 7], [2, 4, 6, 8]], [[2, 4, 3, 9], [10, 9, 8,7]]])\n",
    "print(three_dim)"
   ]
  },
  {
   "cell_type": "markdown",
   "metadata": {},
   "source": [
    "## Task 3a: Accessing Array Attributes\n",
    "\n",
    "In the practice notebook, perform the following.\n",
    "\n",
    "- Create a NumPy array.\n",
    "- Write code that prints these attributes (one per line): `ndim`, `shape`, `size`, `dtype`, `itemsize`, `data`, `nbytes`.\n",
    "- Add a comment line, before each line describing what value the attribute returns. \n"
   ]
  },
  {
   "cell_type": "code",
   "execution_count": 4,
   "metadata": {},
   "outputs": [
    {
     "name": "stdout",
     "output_type": "stream",
     "text": [
      "This is a 2 dimensional array\n",
      "The array has a dimension of (2, 3) in the x and y axis\n",
      "There are 6 elements in the array\n",
      "The data type for this array is <U6\n",
      "The array is 24 bytes\n",
      "Buffer: <memory at 0x7fc2ab0886c0>\n",
      "144 bytes was consumed by the elements of the array\n"
     ]
    }
   ],
   "source": [
    "# Creating 2d numpy array\n",
    "my_2d_array = np.array([['age', 'height', 'weight'],[30, 156, 210]])\n",
    "\n",
    "# Printing the number of array dimensions\n",
    "print(f\"This is a {my_2d_array.ndim} dimensional array\")\n",
    "\n",
    "# Printing tuple of array dimensions\n",
    "print(f\"The array has a dimension of {my_2d_array.shape} in the x and y axis\")\n",
    "\n",
    "# Printing number of elements in array\n",
    "print(f\"There are {my_2d_array.size} elements in the array\")\n",
    "\n",
    "# Printing data type of array elements \n",
    "print(f\"The data type for this array is {my_2d_array.dtype}\")\n",
    "\n",
    "# Printing length of array is bytes\n",
    "print(f\"The array is {my_2d_array.itemsize} bytes\")\n",
    "\n",
    "# Printing Python buffer object pointing to the start of the array’s data\n",
    "print(f\"Buffer: {my_2d_array.data}\")\n",
    "\n",
    "# Printing Total bytes consumed by the elements of the array\n",
    "print(f\"{my_2d_array.nbytes} bytes was consumed by the elements of the array\")"
   ]
  },
  {
   "cell_type": "markdown",
   "metadata": {},
   "source": [
    "## Task 4a: Initializing Arrays\n",
    "\n",
    "In the practice notebook, perform the following.\n",
    "\n",
    "+ Create an initialized array by using these functions:  `ones`, `zeros`, `empty`, `full`, `arange`, `linspace` and `random.random`. Be sure to follow each array creation with a call to `print()` to display your newly created arrays. \n",
    "+ Add a comment above each function call describing what is being done.  "
   ]
  },
  {
   "cell_type": "code",
   "execution_count": 5,
   "metadata": {},
   "outputs": [
    {
     "name": "stdout",
     "output_type": "stream",
     "text": [
      "Below is a 5 x 5 array filled with ones: \n",
      " [[1. 1. 1. 1. 1.]\n",
      " [1. 1. 1. 1. 1.]\n",
      " [1. 1. 1. 1. 1.]\n",
      " [1. 1. 1. 1. 1.]\n",
      " [1. 1. 1. 1. 1.]]\n",
      " Below is a 4 x 4 zero matrix \n",
      " [[0. 0. 0. 0.]\n",
      " [0. 0. 0. 0.]\n",
      " [0. 0. 0. 0.]\n",
      " [0. 0. 0. 0.]]\n",
      "[[1.49166815e-154 1.49166815e-154 2.47032823e-323 0.00000000e+000]\n",
      " [0.00000000e+000 0.00000000e+000 1.49166815e-154 2.68678921e+154]]\n",
      "Below is the grid for Conway's Game of Life: \n",
      " [['-' '-' '-' ... '-' '-' '-']\n",
      " ['-' '-' '-' ... '-' '-' '-']\n",
      " ['-' '-' '-' ... '-' '-' '-']\n",
      " ...\n",
      " ['-' '-' '-' ... '-' '-' '-']\n",
      " ['-' '-' '-' ... '-' '-' '-']\n",
      " ['-' '-' '-' ... '-' '-' '-']]\n",
      "The even numbers between 0 and 20 are: [ 0  2  4  6  8 10 12 14 16 18]\n",
      "[[0.99962514 0.14200529 0.17281393 0.5385365  0.2416037 ]\n",
      " [0.47918928 0.56524346 0.73943562 0.36326936 0.17257712]\n",
      " [0.30809637 0.05660007 0.95030514 0.21522251 0.60560959]\n",
      " [0.77049309 0.31809108 0.78462494 0.61876266 0.33013315]\n",
      " [0.41592419 0.69157636 0.04558018 0.12670534 0.09799972]]\n"
     ]
    }
   ],
   "source": [
    "# Creating a 2-dimensional array with 5 rows and 5 columns filled with ones \n",
    "array_ones = np.ones((5, 5))\n",
    "print(f\"Below is a 5 x 5 array filled with ones: \\n {array_ones}\")\n",
    "\n",
    "# Creating a 4 x 4 zero matrix\n",
    "array_zeros = np.zeros((4,4))\n",
    "print(f\" Below is a 4 x 4 zero matrix \\n {array_zeros}\")\n",
    "\n",
    "# Creating a 2 x 4 array without initializing entries\n",
    "array_empty = np.empty((2, 4))\n",
    "print(array_empty)\n",
    "\n",
    "# Creating a 30 x 80 dash grid \n",
    "array_grid = np.full((30, 80), '-')\n",
    "print(f\"Below is the grid for Conway's Game of Life: \\n {array_grid}\")\n",
    "\n",
    "# Creating an array of even numbers between 0 and 20\n",
    "array_even_0to20 = np.linspace(0, 20 ,10, dtype = 'int', endpoint = False)\n",
    "print(f\"The even numbers between 0 and 20 are: {array_even_0to20}\")\n",
    "\n",
    "# Generating random 5 x 5 arrays\n",
    "array_random = np.random.random((5,5))\n",
    "print(array_random)\n"
   ]
  },
  {
   "cell_type": "markdown",
   "metadata": {},
   "source": [
    "## Task 5a:  Broadcasting Arrays\n",
    "\n",
    "In the practice notebook, perform the following.\n",
    "\n",
    "+ Create two arrays of differing sizes but compatible with broadcasting.\n",
    "+ Perform addition, multiplication and subtraction.\n",
    "+ Create two additional arrays of differing size that do not meet the rules for broadcasting and try a mathematical operation.  "
   ]
  },
  {
   "cell_type": "code",
   "execution_count": 22,
   "metadata": {},
   "outputs": [
    {
     "name": "stdout",
     "output_type": "stream",
     "text": [
      "'array_1' + 'array_2' = [[[1.90318751 1.05651834]\n",
      "  [1.90318751 1.05651834]\n",
      "  [1.90318751 1.05651834]\n",
      "  [1.90318751 1.05651834]\n",
      "  [1.90318751 1.05651834]]\n",
      "\n",
      " [[1.29035101 1.13597266]\n",
      "  [1.29035101 1.13597266]\n",
      "  [1.29035101 1.13597266]\n",
      "  [1.29035101 1.13597266]\n",
      "  [1.29035101 1.13597266]]\n",
      "\n",
      " [[1.74516174 1.93977   ]\n",
      "  [1.74516174 1.93977   ]\n",
      "  [1.74516174 1.93977   ]\n",
      "  [1.74516174 1.93977   ]\n",
      "  [1.74516174 1.93977   ]]\n",
      "\n",
      " [[1.02646787 1.22559951]\n",
      "  [1.02646787 1.22559951]\n",
      "  [1.02646787 1.22559951]\n",
      "  [1.02646787 1.22559951]\n",
      "  [1.02646787 1.22559951]]]\n",
      "'array_1' * 'array_2': [[[1.90318751 1.05651834]\n",
      "  [1.90318751 1.05651834]\n",
      "  [1.90318751 1.05651834]\n",
      "  [1.90318751 1.05651834]\n",
      "  [1.90318751 1.05651834]]\n",
      "\n",
      " [[1.29035101 1.13597266]\n",
      "  [1.29035101 1.13597266]\n",
      "  [1.29035101 1.13597266]\n",
      "  [1.29035101 1.13597266]\n",
      "  [1.29035101 1.13597266]]\n",
      "\n",
      " [[1.74516174 1.93977   ]\n",
      "  [1.74516174 1.93977   ]\n",
      "  [1.74516174 1.93977   ]\n",
      "  [1.74516174 1.93977   ]\n",
      "  [1.74516174 1.93977   ]]\n",
      "\n",
      " [[1.02646787 1.22559951]\n",
      "  [1.02646787 1.22559951]\n",
      "  [1.02646787 1.22559951]\n",
      "  [1.02646787 1.22559951]\n",
      "  [1.02646787 1.22559951]]]\n",
      "'array_1' - 'array_2' = [[[0.09681249 0.94348166]\n",
      "  [0.09681249 0.94348166]\n",
      "  [0.09681249 0.94348166]\n",
      "  [0.09681249 0.94348166]\n",
      "  [0.09681249 0.94348166]]\n",
      "\n",
      " [[0.70964899 0.86402734]\n",
      "  [0.70964899 0.86402734]\n",
      "  [0.70964899 0.86402734]\n",
      "  [0.70964899 0.86402734]\n",
      "  [0.70964899 0.86402734]]\n",
      "\n",
      " [[0.25483826 0.06023   ]\n",
      "  [0.25483826 0.06023   ]\n",
      "  [0.25483826 0.06023   ]\n",
      "  [0.25483826 0.06023   ]\n",
      "  [0.25483826 0.06023   ]]\n",
      "\n",
      " [[0.97353213 0.77440049]\n",
      "  [0.97353213 0.77440049]\n",
      "  [0.97353213 0.77440049]\n",
      "  [0.97353213 0.77440049]\n",
      "  [0.97353213 0.77440049]]]\n"
     ]
    },
    {
     "ename": "ValueError",
     "evalue": "operands could not be broadcast together with shapes (5,2,4) (2,3,2) ",
     "output_type": "error",
     "traceback": [
      "\u001b[0;31m---------------------------------------------------------------------------\u001b[0m",
      "\u001b[0;31mValueError\u001b[0m                                Traceback (most recent call last)",
      "\u001b[0;32m<ipython-input-22-e116aafe4a2d>\u001b[0m in \u001b[0;36m<module>\u001b[0;34m\u001b[0m\n\u001b[1;32m     17\u001b[0m \u001b[0;34m\u001b[0m\u001b[0m\n\u001b[1;32m     18\u001b[0m \u001b[0;31m# Multiplication of arrays\u001b[0m\u001b[0;34m\u001b[0m\u001b[0;34m\u001b[0m\u001b[0;34m\u001b[0m\u001b[0m\n\u001b[0;32m---> 19\u001b[0;31m \u001b[0marray_add\u001b[0m \u001b[0;34m=\u001b[0m \u001b[0mprint\u001b[0m\u001b[0;34m(\u001b[0m\u001b[0;34mf\"'array_3' + 'array_3': {array_3 + array_4}\"\u001b[0m\u001b[0;34m)\u001b[0m\u001b[0;34m\u001b[0m\u001b[0;34m\u001b[0m\u001b[0m\n\u001b[0m\u001b[1;32m     20\u001b[0m \u001b[0;34m\u001b[0m\u001b[0m\n",
      "\u001b[0;31mValueError\u001b[0m: operands could not be broadcast together with shapes (5,2,4) (2,3,2) "
     ]
    }
   ],
   "source": [
    "# Creating arrays \n",
    "array_1 = np.ones((5,2))\n",
    "array_2 = np.random.random((4,1,2))\n",
    "\n",
    "# Addition of arrays\n",
    "array_addition = print(f\"'array_1' + 'array_2' = {array_1 + array_2}\")\n",
    "\n",
    "# Multiplication of arrays\n",
    "array_multiplication = print(f\"'array_1' * 'array_2': {array_1 + array_2}\")\n",
    "\n",
    "# Subtraction of arrays \n",
    "array_subtruction = print(f\"'array_1' - 'array_2' = {array_1 - array_2}\")\n",
    "\n",
    "# Creating arrays of defying the broadcasting rules\n",
    "array_3 = np.ones((5,2,4))\n",
    "array_4 = np.random.random((2,3,2))\n",
    "\n",
    "# Multiplication of arrays\n",
    "array_add = print(f\"'array_3' + 'array_3': {array_3 + array_4}\")\n",
    "\n"
   ]
  },
  {
   "cell_type": "markdown",
   "metadata": {},
   "source": [
    "## Task 6a: Math/Stats Aggregate Functions\n",
    "\n",
    "In the practice notebook, perform the following.\n",
    "\n",
    "+ Create three to five arrays\n",
    "+ Experiment with each of the aggregation functions: `sum`, `minimum`, `maximum`, `cumsum`, `mean`, `np.corrcoef`, `np.std`, `np.var`. \n",
    "+ For each function call, add a comment line above it that describes what it does.  \n",
    "```\n"
   ]
  },
  {
   "cell_type": "code",
   "execution_count": 49,
   "metadata": {},
   "outputs": [
    {
     "name": "stdout",
     "output_type": "stream",
     "text": [
      "The sum of elements in array_5 is: \n",
      " 39\n",
      "The minimum of elements between array_5 and array_6 is: \n",
      " [[1 2 1 7]\n",
      " [2 3 6 0]]\n",
      "The maximum of elements between array_5 and array_6 is: \n",
      " [[ 2  5  5  9]\n",
      " [ 4  8  7 10]]\n",
      "The cummulative sum of elements in array_5 is: \n",
      " [ 1  3  8 17 19 22 29 39]\n",
      "The mean of elements in array_5 is 4.875\n",
      "The correlation coefficient of elements in array_5 and array_6 is \n",
      " [[1.        0.9909901]\n",
      " [0.9909901 1.       ]]\n",
      "The standard deviation of elements in array_5 is 3.219\n",
      "The variance of elements in array_5 is 10.359\n"
     ]
    }
   ],
   "source": [
    "# Creating 2-d array\n",
    "array_5 = np.array([[1, 2, 5, 9],[2, 3, 7, 10]])\n",
    "array_6 = np.array([[2, 5, 1, 7], [4, 8, 6, 0]])\n",
    "\n",
    "# Sum of array elements\n",
    "print(f\"The sum of elements in array_5 is: \\n {np.sum(array_5)}\")\n",
    "\n",
    "# Minimum element in array_5 and array_6\n",
    "print(f\"The minimum of elements between array_5 and array_6 is: \\n {np.minimum(array_5, array_6)}\")\n",
    "\n",
    "# Maximum element in array_5 and array_6\n",
    "print(f\"The maximum of elements between array_5 and array_6 is: \\n {np.maximum(array_5, array_6)}\")\n",
    "\n",
    "# Cummulative sum of elements in array_5\n",
    "print(f\"The cummulative sum of elements in array_5 is: \\n {np.cumsum(array_5)}\")\n",
    "\n",
    "# Mean of elements in array_5\n",
    "print(f\"The mean of elements in array_5 is {np.mean(array_5)}\")\n",
    "\n",
    "# Correlation coefficients between array-5 and array_6\n",
    "print(f\"The correlation coefficient of elements in array_5 and array_6 is \\n {np.corrcoef(array_5)}\")\n",
    "\n",
    "# Standard deviation of elements in array_5\n",
    "print(f\"The standard deviation of elements in array_5 is {np.std(array_5).round(3)}\")\n",
    "\n",
    "# Variance of elements in array_5\n",
    "print(f\"The variance of elements in array_5 is {np.var(array_5).round(3)}\")\n"
   ]
  },
  {
   "cell_type": "markdown",
   "metadata": {},
   "source": [
    "## Task 6b: Logical Aggregate Functions\n",
    "\n",
    "In the practice notebook, perform the following.\n",
    "\n",
    "+ Create two arrays containing boolean values.\n",
    "+ Experiment with each of the aggregation functions: `logical_and`, `logical_or`, `logical_not`. \n",
    "+ For each function call, add a comment line above it that describes what it does.  \n",
    "```"
   ]
  },
  {
   "cell_type": "code",
   "execution_count": 56,
   "metadata": {},
   "outputs": [
    {
     "name": "stdout",
     "output_type": "stream",
     "text": [
      "array_7 AND array_8 gives: [False False False False False]\n",
      "array_7 OR array_8 gives: [ True False  True  True  True]\n",
      "array_7 NOT array_8 gives: [False  True False False  True]\n"
     ]
    }
   ],
   "source": [
    "# Creating Boolean arrays\n",
    "array_7 = np.array([True, False, True, True, False])\n",
    "array_8 = np.array([False, False, False, False, True])\n",
    "\n",
    "# Applying NOT to the arrays\n",
    "print(f\"array_7 AND array_8 gives: {np.logical_and(array_7, array_8)}\")\n",
    "\n",
    "#Applying OR to the arrays\n",
    "print(f\"array_7 OR array_8 gives: {np.logical_or(array_7, array_8)}\")\n",
    "\n",
    "# Applying NOT to the arrays\n",
    "print(f\"array_7 NOT array_8 gives: {np.logical_not(array_7, array_8)}\")"
   ]
  },
  {
   "cell_type": "code",
   "execution_count": null,
   "metadata": {},
   "outputs": [],
   "source": []
  }
 ],
 "metadata": {
  "kernelspec": {
   "display_name": "Python 3",
   "language": "python",
   "name": "python3"
  },
  "language_info": {
   "codemirror_mode": {
    "name": "ipython",
    "version": 3
   },
   "file_extension": ".py",
   "mimetype": "text/x-python",
   "name": "python",
   "nbconvert_exporter": "python",
   "pygments_lexer": "ipython3",
   "version": "3.8.5"
  }
 },
 "nbformat": 4,
 "nbformat_minor": 4
}
